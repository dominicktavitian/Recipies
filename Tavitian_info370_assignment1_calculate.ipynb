{
 "cells": [
  {
   "cell_type": "code",
   "execution_count": 10,
   "metadata": {
    "collapsed": true
   },
   "outputs": [],
   "source": [
    "#Import packages\n",
    "import pandas as pd\n",
    "import re\n",
    "import numpy as np"
   ]
  },
  {
   "cell_type": "code",
   "execution_count": 11,
   "metadata": {
    "collapsed": true
   },
   "outputs": [],
   "source": [
    "#read in raw data csv into a dataFrame\n",
    "df = pd.read_csv('Tavitian_info370_assignment1_cleanData.csv', encoding='utf-8')"
   ]
  },
  {
   "cell_type": "code",
   "execution_count": 12,
   "metadata": {
    "collapsed": false
   },
   "outputs": [],
   "source": [
    "#convert data frame into a list of lists \n",
    "recipeList = df.values.tolist()"
   ]
  },
  {
   "cell_type": "code",
   "execution_count": 13,
   "metadata": {
    "collapsed": false
   },
   "outputs": [],
   "source": [
    "#for loop that loops through clean data and creates list with each element being a single\n",
    "#word from the recipes. We do it by splitting each string and appending it to the list\n",
    "ingredients = []\n",
    "for x in recipeList:\n",
    "    i = x[2]; #grabs each ingredients string\n",
    "    string_text = i.split()\n",
    "    for i in string_text:\n",
    "        ingredients.append(i)\n",
    "\n",
    "#convert list of words to DF of words. \n",
    "ingredientWords = pd.DataFrame(ingredients, columns = ['word'])"
   ]
  },
  {
   "cell_type": "code",
   "execution_count": 14,
   "metadata": {
    "collapsed": false
   },
   "outputs": [],
   "source": [
    "#Take DF of ingredient words, group by the words then get the count of each word appearing \n",
    "countedWords = ingredientWords.groupby(['word'])[\"word\"].count().reset_index(name=\"count\")\n",
    "\n",
    "#Sort the words by most occuring count \n",
    "sortedWords = countedWords.sort_values(by ='count', ascending=False)\n",
    "\n",
    "#Store top 10 occuring words in topWords list\n",
    "topWords = sortedWords[0:10]\n",
    "\n"
   ]
  },
  {
   "cell_type": "code",
   "execution_count": 15,
   "metadata": {
    "collapsed": false
   },
   "outputs": [],
   "source": [
    "#calculate proportoins - first is convert topWords DF to a list. \n",
    "#while loop calculates proportion by taking each row's count column and dividing it\n",
    "#by the length of all the sorted words using the sortedWords list above.\n",
    "proportions = []\n",
    "topWordsList = topWords.values.tolist()\n",
    "a = 0\n",
    "while a < len(topWords):\n",
    "    x = (topWordsList[a][1])/float(len(sortedWords))\n",
    "    proportions.append(x)\n",
    "    a+=1"
   ]
  },
  {
   "cell_type": "code",
   "execution_count": 16,
   "metadata": {
    "collapsed": false
   },
   "outputs": [],
   "source": [
    "#Append the corresponding proportions with the words and counts in the topWordList to have one\n",
    "#complete list.\n",
    "c=0\n",
    "for i in topWordsList:\n",
    "    if len(i) < 3:\n",
    "        x = topWordsList[c].append(proportions[c])\n",
    "    c+=1\n",
    "topWordsList\n",
    "\n",
    "#convert complete list to final df output of top 10 counted words and their proportions. \n",
    "finalDf = pd.DataFrame(topWordsList, columns = ['words', 'count', 'proportions'])\n"
   ]
  },
  {
   "cell_type": "code",
   "execution_count": 17,
   "metadata": {
    "collapsed": true
   },
   "outputs": [],
   "source": [
    "#Export final df to csv\n",
    "finalDf.to_csv('Tavitian_info370_assignment1_calculate.csv', index = False, encoding = 'utf-8')"
   ]
  },
  {
   "cell_type": "code",
   "execution_count": null,
   "metadata": {
    "collapsed": false
   },
   "outputs": [],
   "source": []
  }
 ],
 "metadata": {
  "kernelspec": {
   "display_name": "Python 2",
   "language": "python",
   "name": "python2"
  },
  "language_info": {
   "codemirror_mode": {
    "name": "ipython",
    "version": 2
   },
   "file_extension": ".py",
   "mimetype": "text/x-python",
   "name": "python",
   "nbconvert_exporter": "python",
   "pygments_lexer": "ipython2",
   "version": "2.7.13"
  }
 },
 "nbformat": 4,
 "nbformat_minor": 2
}
