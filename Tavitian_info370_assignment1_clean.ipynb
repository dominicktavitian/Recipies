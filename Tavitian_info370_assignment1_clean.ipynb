{
 "cells": [
  {
   "cell_type": "code",
   "execution_count": 9,
   "metadata": {
    "collapsed": false
   },
   "outputs": [],
   "source": [
    "#Import packages\n",
    "import pandas as pd\n",
    "import re\n",
    "import numpy as np"
   ]
  },
  {
   "cell_type": "code",
   "execution_count": 10,
   "metadata": {
    "collapsed": false
   },
   "outputs": [],
   "source": [
    "#read in raw data csv into a dataFrame\n",
    "df = pd.read_csv('Tavitian_info370_assignment1_rawData.csv', encoding='utf-8')\n",
    "dfInput = df.replace(np.nan, '', regex=True)"
   ]
  },
  {
   "cell_type": "code",
   "execution_count": 11,
   "metadata": {
    "collapsed": false
   },
   "outputs": [],
   "source": [
    "#convert data frame into a list of lists \n",
    "recipeList = dfInput.values.tolist()"
   ]
  },
  {
   "cell_type": "code",
   "execution_count": 12,
   "metadata": {
    "collapsed": true
   },
   "outputs": [],
   "source": [
    "#List of words that we want to remove from recipes\n",
    "listOfWords = ['tablespoons', 'ounces', 'teaspoon', 'tablespoon', 'teaspoon', 'cup', 'cups', \n",
    "         'the', 'and', 'dash', 'small', 'medium', 'large', 'tbsp', 'tsp', 'couple', 'few',\n",
    "         'pound', 'extra', 'pounds', 'only','for', 'gram', 'grams', 'pints', 'pint', \n",
    "         'sprigs', 'ears', 'inch', 'inches', 'turns', 'slices' , 'slice', 'such', \n",
    "         'other', 'into', 'stuff', 'size', 'lot', 'but ','your', 'lbs',  'nine', 'ten', \n",
    "         'one', 'two', 'three', 'four', 'five', 'six', 'seven', 'eight',\n",
    "         'splash','serving', 'servings', 'plus', 'more', 'from ']\n"
   ]
  },
  {
   "cell_type": "code",
   "execution_count": 13,
   "metadata": {
    "collapsed": false,
    "scrolled": true
   },
   "outputs": [],
   "source": [
    "#empty list where values will be stored from the scraping. \n",
    "cleanedData = []\n",
    "\n",
    "#Cleaning Data:\n",
    "#-double for loop - the first loop iterates over the list (or each row).\n",
    "#-the second loop iterates over each element in each list (each cell in the row).\n",
    "#-We know that each row has 3 columns - and we know the column names are url, name, ingredient.\n",
    "#-Use var. 'j' to make sure each parsed string goes in correct column in final list of tuples\n",
    "#- Use variety of Regex calls to clean data. \n",
    "for x in recipeList:\n",
    "    j = 0\n",
    "    for i in x:\n",
    "        if j == 0:\n",
    "            url = i \n",
    "        if j == 1:\n",
    "            string1 = re.sub(\"['-,.&/\\n:0-9\\W]\", ' ', i)\n",
    "            string2 = re.sub('   *', '  ', string1)\n",
    "            string3 = re.sub(' [a-zA-Z] ', ' ', string2)\n",
    "            name = re.sub(r'\\b\\w{1,2}\\b','',string3)\n",
    "           \n",
    "        if j == 2:\n",
    "            string1 = re.sub(\"['-,.&/\\n:0-9\\W]\", ' ', i)\n",
    "            \n",
    "            #This loop goes through each filler word in the words array and removes them\n",
    "            for z in listOfWords: \n",
    "                string1 = re.sub(z, '', string1)\n",
    "                string2 = string1\n",
    "            string2 = re.sub('   *', ' ', string2)\n",
    "            string3 = re.sub('s ', '', string2)\n",
    "            string4 = re.sub(' [a-zA-Z] ', ' ', string3)\n",
    "            ingredient = re.sub(r'\\b\\w{1,2}\\b','',string4)\n",
    "        j+=1 \n",
    "    \n",
    "    #append data to correct columns\n",
    "    cleanedData.append((url.strip(), name.strip(), ingredient.strip()))\n",
    "    \n",
    "    "
   ]
  },
  {
   "cell_type": "code",
   "execution_count": 14,
   "metadata": {
    "collapsed": false
   },
   "outputs": [],
   "source": [
    "#convert cleanedData list of tuples to dataframe\n",
    "dfOutput = pd.DataFrame(cleanedData, columns=['url', 'name', 'ingredient'])\n",
    "dfOutput['ingredient'].replace('', np.nan, inplace=True)\n",
    "dfOutput.dropna(subset=['ingredient'], inplace=True)"
   ]
  },
  {
   "cell_type": "code",
   "execution_count": 15,
   "metadata": {
    "collapsed": true
   },
   "outputs": [],
   "source": [
    "##Export dataframe to CSV of Clean Data \n",
    "dfOutput.to_csv('Tavitian_info370_assignment1_cleanData.csv', index = False, encoding = 'utf-8')\n"
   ]
  },
  {
   "cell_type": "code",
   "execution_count": null,
   "metadata": {
    "collapsed": true
   },
   "outputs": [],
   "source": []
  }
 ],
 "metadata": {
  "kernelspec": {
   "display_name": "Python 2",
   "language": "python",
   "name": "python2"
  },
  "language_info": {
   "codemirror_mode": {
    "name": "ipython",
    "version": 2
   },
   "file_extension": ".py",
   "mimetype": "text/x-python",
   "name": "python",
   "nbconvert_exporter": "python",
   "pygments_lexer": "ipython2",
   "version": "2.7.13"
  }
 },
 "nbformat": 4,
 "nbformat_minor": 2
}
