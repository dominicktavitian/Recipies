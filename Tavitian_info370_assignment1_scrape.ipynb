{
 "cells": [
  {
   "cell_type": "code",
   "execution_count": 9,
   "metadata": {
    "collapsed": true
   },
   "outputs": [],
   "source": [
    "#import packages\n",
    "import requests \n",
    "import pandas as pd\n",
    "from bs4 import BeautifulSoup\n"
   ]
  },
  {
   "cell_type": "code",
   "execution_count": 10,
   "metadata": {
    "collapsed": false
   },
   "outputs": [],
   "source": [
    "#pass in url\n",
    "url = 'http://www.pbs.org/food/recipes/'"
   ]
  },
  {
   "cell_type": "code",
   "execution_count": 11,
   "metadata": {
    "collapsed": true
   },
   "outputs": [],
   "source": [
    "#have to create array of recipes because I url doesn't categorize recipes by integers\n",
    "recipeList = ['vegan-cornbread', 'curried-butternut-squash-soup', \n",
    "              'red-pepper-pesto-pasta-shrimp', 'sweet-potato-shepherds-pie', \n",
    "              'peanut-butter-jelly-muffins', 'spicy-braised-turkey-meatballs',\n",
    "              'breakfast-citrus-salad', 'ms-lillies-kill-hungry-macaroni',\n",
    "              'cobb-salad-wrap', 'marbled-cheesecake-brownies', \n",
    "              'cranberry-apple-baked-oatmeal', 'carrot-ginger-turmeric-soup', \n",
    "              'french-onion-mac-n-cheese', 'classic-strawberry-shortcake',\n",
    "              'montgomery-pie', 'pan-roasted-chicken-one',\n",
    "              'pumpkin-spice-chewy-snickerdoodles', 'buttercup-squash-fries-sage-aioli',\n",
    "              'mississippi-mud-tart', 'honey-miso-glazed-carrots', \n",
    "              'spinach-artichoke-stuff-mushrooms', 'squash-eggplant-brie-arugula-pizza',\n",
    "              'boston-brown-bread', 'italian-american-lasagna',\n",
    "              'spaghetti-calamari-scallops-shrimp-spaghetti-di-tornola', 'shrimp-chunky-marinara-sauce-gamberi-alla-marinara',\n",
    "              'ziti-broccoli-rabe-sausage-ziti-con-broccoli-di-rape-e-salsicce', 'manicotti',\n",
    "              'tomato-bread-salad-panzanella', 'roasted-pepper-halves-bread-crumb-topping-peperoni-arrostiti',\n",
    "              'caesar-salad-insalata-alla-cesare', 'easy-meatloaf',\n",
    "              'steamed-salmon-mushrooms', 'sausage-stewed-cabbage',\n",
    "              'country-style-pork-ribs-red-curry-braised-watermelon', 'butter-soy-sauce-smashed-potatoes',\n",
    "              'late-summer-succotash-mustard-greens', 'spring-onion-gratin',\n",
    "              'funnel-cakes', 'watermelon-sangria-pops',\n",
    "              'honey-mustard-chicken', 'churro-funnel-cakes',\n",
    "              'kimchi-baked-beans', 'red-white-blueberry-potato-salad', \n",
    "              'frozen-beergarita', 'la-hot-dogs', \n",
    "              'rollwiches', 'apple-fritters',\n",
    "              'bourbon-mac-cheese', 'polenta-patties-sauteed-greens-poached-egg-roma-tomato-basil-salsa',\n",
    "              'tarahumara-three-sisters-stew', 'pickle-wreaths',\n",
    "              'marion-nestles-favorite-summer-fruit-thing', 'bodega-red-potato-croquettes',\n",
    "              'early-blood-turnip-rooted-beet-balls-garlic-basil-tomato-sauce', 'algonquin-squash-empanadas',\n",
    "              'veggie-frittata-recipe', 'tamar-adlers-chickpea-pasta-recipe', \n",
    "              'samin-nosrats-bright-cabbage-slaw', 'pollan-signature-salad', \n",
    "              'maple-balsamic-root-vegetable-fries', 'hunters-chicken-stew-tomatoes-mushrooms',\n",
    "              'crispy-crunchy-apple-crumble', 'rhubarb-raspberry-biscuit-cobblers', \n",
    "              'potato-salad', 'hamburger-steak-red-pea-onion-gravy', \n",
    "              'vegetarian-chili-cornbread-dumplings', 'frank-lees-clam-hash', \n",
    "              'stewed-rutabagas', 'sticky-honey-peanut-cake', \n",
    "              'chocolate-egg-cream', 'poppy-seed-chicken-casserole', \n",
    "              'pickled-beets', 'maple-walnut-stuffed-baked-apples',\n",
    "              'quick-pickled-cucumbers-onions', 'fig-lemon-preserves', \n",
    "              'canned-peaches', 'blackberry-swirl-cheesecake-rye-pecan-crust', \n",
    "              'old-school-squash-onions', 'classic-peach-pie',\n",
    "              'grilled-butterflied-cornish-hen', 'vegan-french-toast',\n",
    "              'healthier-homemade-oreos', 'cold-lemon-pie',\n",
    "              'eggs-royale', 'mongolian-beef-pasta', \n",
    "              'southwest-tofu-scramble', 'orange-shrimp', \n",
    "              'kimchi-grilled-cheese', 'rhubarb-compote', \n",
    "              'no-mayo-potato-salad', 'biscuits', \n",
    "              'salted-coconut-caramel', 'smoked-cheddar-black-pepper-mac-n-cheese', \n",
    "              'pecan-tassies', 'chili-meatloaf',\n",
    "              'red-velvet-oreos', 'pumpkin-bread-2', \n",
    "              'ambrosia', 'hoppin-john-2', \n",
    "              'red-velvet-cake', 'apple-strudel-2', \n",
    "              'spiced-cranberry-sangria', 'date-pecan-bacon-cheese-ball-curried-peach-preserves', \n",
    "              'pan-drippings-gravy', 'citrus-dry-brined-turkey', \n",
    "              'roasted-squash-cornbread', 'old-timey-applejacks', \n",
    "              'roasted-rolled-turkey-breast-herbs', 'reuben-sandwich', \n",
    "              'braised-brisket-bourbon-peach-glaze', 'fall-granola', \n",
    "              'beer-steamed-mussels', 'grilled-oysters-cajun-compound-butter', \n",
    "              'butterbean-burger', 'baked-stuffed-clams', \n",
    "              'grilled-quail-garlic-butter-ginger-vegetable-rice-pilaf', 'collards-kimchi',\n",
    "              'bbq-peel-eat-shrimp-lemon-mayo', 'black-bbq-sauce',\n",
    "              'blueberry-cobbler-cornmeal-sugar-cookie-crust', 'adobo-fried-chicken-waffles', \n",
    "              'bacon-pate-blt', 'hatch-chile-corn-muffins', \n",
    "              'rye-plum-crisp', 'hamachi-poke', \n",
    "              'judy-garlands-vegetable-salad', 'rhubarb-jam-pie', \n",
    "              'peach-crumble-pie', 'garlic-lemon-spinach', \n",
    "              'cherry-chocolate-cookies', 'peanut-butter-and-jelly-bars', \n",
    "              'blueberry-crisp', 'smores-pop-tarts', \n",
    "              'grits-with-broiled-tomatoes', 'fried-okra', \n",
    "              'jimmy-red-corn-grits', 'buttermilk-pie', \n",
    "              'candied-yams-with-bacon-pecan-syrup', 'crispy-rice-with-leeks-ginger-and-garlic', \n",
    "              'mulled-muscadines-with-fried-crostini-and-creamy-goat-cheese', 'oysters-on-the-half-shell-with-muscadine-and-apple-mignonette', \n",
    "              'tomato-pie', 'citrus-sweet-potato-puree-with-pork-cracklins', \n",
    "              'crustless-apple-pie', 'persimmon-and-sage-stuffing', \n",
    "              'delicata-squash-and-sage-biscuits', 'alligator-in-picante-sauce', \n",
    "              'pumpkin-apple-baked-beans', 'curry-sage-butternut-squash-soup', \n",
    "              'pumpkin-bread', 'buttermilk-griddle-cakes', \n",
    "              'grits-with-mushroom-sausage-and-pepper-ragout', 'strawberry-shortcake-with-basil-whipped-cream-and-coconut-cornbread', \n",
    "              'peanut-butter-cookies', 'pasilla-chile-and-cheddar-spoonbread', \n",
    "              'truffle-infused-prime-sirloin', 'raspberry-buttermilk-pie', \n",
    "              'sticky-buns', 'steak-brie-mushrooms']"
   ]
  },
  {
   "cell_type": "code",
   "execution_count": 12,
   "metadata": {
    "collapsed": false
   },
   "outputs": [],
   "source": [
    "#empty list where values will be stored from the scraping. \n",
    "recipeData = []\n",
    "\n",
    "\n",
    "#for loop that loops every recipe in the list of recipes, and for each recipe\n",
    "#captures the url, name, and ingredients and organizes it into a dataframe.\n",
    "for x in recipeList:  \n",
    "    i=0\n",
    "    newURL = url + x\n",
    "    fetched = requests.get(newURL)\n",
    "    soup = BeautifulSoup(fetched.text, 'html.parser')\n",
    "    names = soup.find('h1', attrs={'class': 'fn'})\n",
    "    ingredients = soup.find_all('li', attrs={'class':'ingredient'}).find\n",
    "    while i < len(ingredients):\n",
    "        recipeData.append((newURL, names.text.lower(), ingredients[i].text.lower()))\n",
    "        i+=1"
   ]
  },
  {
   "cell_type": "code",
   "execution_count": 13,
   "metadata": {
    "collapsed": false
   },
   "outputs": [],
   "source": [
    "#Convert recipeData list of tuples to dataframe. \n",
    "df = pd.DataFrame(recipeData, columns=['url', 'name', 'ingredient']) "
   ]
  },
  {
   "cell_type": "code",
   "execution_count": 14,
   "metadata": {
    "collapsed": true
   },
   "outputs": [],
   "source": [
    "#Export dataframe to CSV of Raw Data \n",
    "df.to_csv('Tavitian_info370_assignment1_rawData.csv', index = False, encoding = 'utf-8')"
   ]
  },
  {
   "cell_type": "code",
   "execution_count": null,
   "metadata": {
    "collapsed": true
   },
   "outputs": [],
   "source": []
  }
 ],
 "metadata": {
  "kernelspec": {
   "display_name": "Python 2",
   "language": "python",
   "name": "python2"
  },
  "language_info": {
   "codemirror_mode": {
    "name": "ipython",
    "version": 2
   },
   "file_extension": ".py",
   "mimetype": "text/x-python",
   "name": "python",
   "nbconvert_exporter": "python",
   "pygments_lexer": "ipython2",
   "version": "2.7.13"
  }
 },
 "nbformat": 4,
 "nbformat_minor": 2
}
